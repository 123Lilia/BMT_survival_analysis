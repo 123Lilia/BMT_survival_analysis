{
  "cells": [
    {
      "cell_type": "code",
      "source": [
        "# Bone marrow"
      ],
      "metadata": {
        "id": "RinSCeT0NbzA"
      },
      "id": "RinSCeT0NbzA",
      "execution_count": null,
      "outputs": []
    },
    {
      "cell_type": "code",
      "source": [
        "In this machine learning project, we aim to predict the survival status of patients with bone marrow conditions using various health-related features from their medical data. The target variable, 'survival_status,' indicates whether a patient survived ('yes') or not ('no')."
      ],
      "metadata": {
        "id": "ClZJfsEQNb-s"
      },
      "id": "ClZJfsEQNb-s",
      "execution_count": null,
      "outputs": []
    },
    {
      "cell_type": "code",
      "execution_count": null,
      "id": "332bb46f-95bd-466c-baa8-fa9e37db6c4f",
      "metadata": {
        "id": "332bb46f-95bd-466c-baa8-fa9e37db6c4f"
      },
      "outputs": [],
      "source": [
        "import pandas as pd\n",
        "from scipy.io import arff\n",
        "from scipy import stats\n",
        "import numpy as np\n",
        "from sklearn.impute import SimpleImputer\n",
        "import matplotlib.pyplot as plt\n",
        "import seaborn as sns\n",
        "from sklearn.preprocessing import StandardScaler\n",
        "from sklearn.feature_selection import SelectKBest, chi2\n",
        "from sklearn.preprocessing import LabelEncoder\n",
        "from sklearn.model_selection import train_test_split\n",
        "from sklearn.preprocessing import StandardScaler\n",
        "from sklearn.metrics import roc_curve, auc\n",
        "from sklearn.metrics import accuracy_score, precision_score, recall_score, f1_score, roc_auc_score,classification_report\n",
        "from sklearn.tree import DecisionTreeClassifier\n",
        "from sklearn.ensemble import RandomForestClassifier, GradientBoostingClassifier, AdaBoostClassifier\n",
        "from sklearn.linear_model import LogisticRegression\n",
        "from sklearn.neighbors import KNeighborsClassifier\n",
        "from xgboost import XGBClassifier\n",
        "from sklearn.naive_bayes import GaussianNB\n",
        "from sklearn.svm import SVC\n",
        "from tensorflow.keras.models import Sequential\n",
        "from tensorflow.keras.layers import Dense\n",
        "from scikeras.wrappers import KerasClassifier\n",
        "from sklearn.impute import KNNImputer\n",
        "from sklearn.model_selection import train_test_split, StratifiedKFold, cross_val_score"
      ]
    },
    {
      "cell_type": "code",
      "execution_count": null,
      "id": "e161808d-0fc5-4dfa-a294-6afa85a2b42b",
      "metadata": {
        "colab": {
          "base_uri": "https://localhost:8080/"
        },
        "id": "e161808d-0fc5-4dfa-a294-6afa85a2b42b",
        "outputId": "eb69182d-bf8f-4733-cb16-7957a3177df7"
      },
      "outputs": [
        {
          "output_type": "stream",
          "name": "stdout",
          "text": [
            "ARFF file has been converted to CSV.\n"
          ]
        }
      ],
      "source": [
        "# Load the ARFF file\n",
        "path = 'bone-marrow.arff'\n",
        "data = arff.loadarff(path)\n",
        "\n",
        "# Convert the data to a pandas DataFrame\n",
        "df = pd.DataFrame(data[0])\n",
        "\n",
        "# Convert byte strings to strings if necessary (common with ARFF files)\n",
        "df = df.applymap(lambda x: x.decode('utf-8') if isinstance(x, bytes) else x)\n",
        "\n",
        "# Save the DataFrame to a CSV file\n",
        "csv_path = 'bone-marrow-converted.csv'\n",
        "df.to_csv(csv_path, index=False)\n",
        "\n",
        "print(\"ARFF file has been converted to CSV.\")\n"
      ]
    },
    {
      "cell_type": "code",
      "execution_count": null,
      "id": "44524ade-ab54-482e-9603-da2cd3922937",
      "metadata": {
        "colab": {
          "base_uri": "https://localhost:8080/"
        },
        "id": "44524ade-ab54-482e-9603-da2cd3922937",
        "outputId": "b928261b-98ec-4c78-e2a3-d52e4854cbec"
      },
      "outputs": [
        {
          "output_type": "stream",
          "name": "stdout",
          "text": [
            "  Recipientgender Stemcellsource   Donorage Donorage35 IIIV Gendermatch  \\\n",
            "0               1              1  22.830137          0    1           0   \n",
            "1               1              0  23.342466          0    1           0   \n",
            "2               1              0  26.394521          0    1           0   \n",
            "3               0              0  39.684932          1    1           0   \n",
            "4               0              1  33.358904          0    0           0   \n",
            "\n",
            "  DonorABO RecipientABO RecipientRh ABOmatch  ... extcGvHD CD34kgx10d6  \\\n",
            "0        1            1           1        0  ...        1        7.20   \n",
            "1       -1           -1           1        0  ...        1        4.50   \n",
            "2       -1           -1           1        0  ...        1        7.94   \n",
            "3        1            2           1        1  ...        ?        4.25   \n",
            "4        1            2           0        1  ...        1       51.85   \n",
            "\n",
            "    CD3dCD34 CD3dkgx10d8 Rbodymass ANCrecovery PLTrecovery  \\\n",
            "0   1.338760        5.38      35.0        19.0        51.0   \n",
            "1  11.078295        0.41      20.6        16.0        37.0   \n",
            "2  19.013230        0.42      23.4        23.0        20.0   \n",
            "3  29.481647        0.14      50.0        23.0        29.0   \n",
            "4   3.972255       13.05       9.0        14.0        14.0   \n",
            "\n",
            "  time_to_aGvHD_III_IV survival_time survival_status  \n",
            "0                 32.0         999.0             0.0  \n",
            "1            1000000.0         163.0             1.0  \n",
            "2            1000000.0         435.0             1.0  \n",
            "3                 19.0          53.0             1.0  \n",
            "4            1000000.0        2043.0             0.0  \n",
            "\n",
            "[5 rows x 37 columns]\n"
          ]
        }
      ],
      "source": [
        "# Display the first few rows of the dataset to understand its structure\n",
        "print(df.head())"
      ]
    },
    {
      "cell_type": "code",
      "execution_count": null,
      "id": "19dca22b-8888-412e-aa2a-fd590632d6c1",
      "metadata": {
        "colab": {
          "base_uri": "https://localhost:8080/"
        },
        "id": "19dca22b-8888-412e-aa2a-fd590632d6c1",
        "outputId": "036f40ac-a463-4e11-a76e-2fc9089e5302"
      },
      "outputs": [
        {
          "output_type": "stream",
          "name": "stdout",
          "text": [
            "         Donorage  Recipientage  CD34kgx10d6    CD3dCD34  CD3dkgx10d8  \\\n",
            "count  187.000000    187.000000   187.000000  182.000000   182.000000   \n",
            "mean    33.472068      9.931551    11.891781    5.385096     4.745714   \n",
            "std      8.271826      5.305639     9.914386    9.598716     3.859128   \n",
            "min     18.646575      0.600000     0.790000    0.204132     0.040000   \n",
            "25%     27.039726      5.050000     5.350000    1.786683     1.687500   \n",
            "50%     33.550685      9.600000     9.720000    2.734462     4.325000   \n",
            "75%     40.117809     14.050000    15.415000    5.823565     6.785000   \n",
            "max     55.553425     20.200000    57.780000   99.560970    20.020000   \n",
            "\n",
            "        Rbodymass     ANCrecovery     PLTrecovery  time_to_aGvHD_III_IV  \\\n",
            "count  185.000000      187.000000      187.000000            187.000000   \n",
            "mean    35.801081    26752.866310    90937.919786         775408.042781   \n",
            "std     19.650922   161747.200525   288242.407688         418425.252689   \n",
            "min      6.000000        9.000000        9.000000             10.000000   \n",
            "25%     19.000000       13.000000       16.000000        1000000.000000   \n",
            "50%     33.000000       15.000000       21.000000        1000000.000000   \n",
            "75%     50.600000       17.000000       37.000000        1000000.000000   \n",
            "max    103.400000  1000000.000000  1000000.000000        1000000.000000   \n",
            "\n",
            "       survival_time  survival_status  \n",
            "count     187.000000       187.000000  \n",
            "mean      938.743316         0.454545  \n",
            "std       849.589495         0.499266  \n",
            "min         6.000000         0.000000  \n",
            "25%       168.500000         0.000000  \n",
            "50%       676.000000         0.000000  \n",
            "75%      1604.000000         1.000000  \n",
            "max      3364.000000         1.000000  \n"
          ]
        }
      ],
      "source": [
        "# Display summary statistics to get an idea of the data's distribution\n",
        "print(df.describe())"
      ]
    },
    {
      "cell_type": "code",
      "execution_count": null,
      "id": "522e53c5-7ac9-4107-8e51-f2538abacad0",
      "metadata": {
        "colab": {
          "base_uri": "https://localhost:8080/"
        },
        "id": "522e53c5-7ac9-4107-8e51-f2538abacad0",
        "outputId": "77b7e518-9ebe-43b0-975c-1514c887bb2a"
      },
      "outputs": [
        {
          "output_type": "stream",
          "name": "stdout",
          "text": [
            "Non-numeric columns: Index(['Recipientgender', 'Stemcellsource', 'Donorage35', 'IIIV',\n",
            "       'Gendermatch', 'DonorABO', 'RecipientABO', 'RecipientRh', 'ABOmatch',\n",
            "       'CMVstatus', 'DonorCMV', 'RecipientCMV', 'Disease', 'Riskgroup',\n",
            "       'Txpostrelapse', 'Diseasegroup', 'HLAmatch', 'HLAmismatch', 'Antigen',\n",
            "       'Alel', 'HLAgrI', 'Recipientage10', 'Recipientageint', 'Relapse',\n",
            "       'aGvHDIIIIV', 'extcGvHD'],\n",
            "      dtype='object')\n"
          ]
        }
      ],
      "source": [
        "# Identify non-numeric columns\n",
        "non_numeric_columns = df.select_dtypes(exclude=[np.number]).columns\n",
        "print(\"Non-numeric columns:\", non_numeric_columns)"
      ]
    },
    {
      "cell_type": "code",
      "execution_count": null,
      "id": "9db04184-e301-4970-bc5f-d25992775da7",
      "metadata": {
        "colab": {
          "base_uri": "https://localhost:8080/"
        },
        "id": "9db04184-e301-4970-bc5f-d25992775da7",
        "outputId": "7fb8e56e-8e64-4352-da56-3162448fa40a"
      },
      "outputs": [
        {
          "output_type": "stream",
          "name": "stdout",
          "text": [
            "Recipientgender: Unique values: ['1' '0']\n",
            "Stemcellsource: Unique values: ['1' '0']\n",
            "Donorage35: Unique values: ['0' '1']\n",
            "IIIV: Unique values: ['1' '0']\n",
            "Gendermatch: Unique values: ['0' '1']\n",
            "DonorABO: Unique values: ['1' '-1' '2' '0']\n",
            "RecipientABO: Unique values: ['1' '-1' '2' '0' '?']\n",
            "RecipientRh: Unique values: ['1' '0' '?']\n",
            "ABOmatch: Unique values: ['0' '1' '?']\n",
            "CMVstatus: Unique values: ['3' '0' '2' '1' '?']\n",
            "DonorCMV: Unique values: ['1' '0' '?']\n",
            "RecipientCMV: Unique values: ['1' '0' '?']\n",
            "Disease: Unique values: ['ALL' 'AML' 'chronic' 'nonmalignant' 'lymphoma']\n",
            "Riskgroup: Unique values: ['1' '0']\n",
            "Txpostrelapse: Unique values: ['0' '1']\n",
            "Diseasegroup: Unique values: ['1' '0']\n",
            "HLAmatch: Unique values: ['0' '1' '3' '2']\n",
            "HLAmismatch: Unique values: ['0' '1']\n",
            "Antigen: Unique values: ['-1' '1' '0' '2' '?']\n",
            "Alel: Unique values: ['-1' '0' '2' '1' '3' '?']\n",
            "HLAgrI: Unique values: ['0' '1' '7' '3' '2' '4' '5']\n",
            "Recipientage10: Unique values: ['0' '1']\n",
            "Recipientageint: Unique values: ['1' '0' '2']\n",
            "Relapse: Unique values: ['0' '1']\n",
            "aGvHDIIIIV: Unique values: ['0' '1']\n",
            "extcGvHD: Unique values: ['1' '?' '0']\n"
          ]
        }
      ],
      "source": [
        "# Check the unique values for these non-numeric (integer-encoded) columns\n",
        "for column in non_numeric_columns:\n",
        "    print(f\"{column}: Unique values: {df[column].unique()}\")"
      ]
    },
    {
      "cell_type": "code",
      "execution_count": null,
      "id": "c9be8214-a5ad-4a7a-a145-faae4e2d20c5",
      "metadata": {
        "colab": {
          "base_uri": "https://localhost:8080/"
        },
        "id": "c9be8214-a5ad-4a7a-a145-faae4e2d20c5",
        "outputId": "83493d86-3d9d-4dfe-8a72-7c2d1fe8bd75"
      },
      "outputs": [
        {
          "output_type": "stream",
          "name": "stdout",
          "text": [
            "Index(['Recipientgender', 'Stemcellsource', 'Donorage', 'Donorage35',\n",
            "       'Gendermatch', 'DonorABO', 'RecipientABO', 'RecipientRh', 'ABOmatch',\n",
            "       'CMVstatus', 'DonorCMV', 'RecipientCMV', 'Disease', 'Riskgroup',\n",
            "       'Txpostrelapse', 'Diseasegroup', 'HLAmatch', 'HLAmismatch', 'Antigen',\n",
            "       'Alel', 'HLAgrI', 'Recipientage', 'Recipientage10', 'Recipientageint',\n",
            "       'CD34kgx10d6', 'CD3dCD34', 'CD3dkgx10d8', 'Rbodymass',\n",
            "       'survival_status'],\n",
            "      dtype='object')\n",
            "  Recipientgender Stemcellsource   Donorage Donorage35 Gendermatch DonorABO  \\\n",
            "0               1              1  22.830137          0           0        1   \n",
            "1               1              0  23.342466          0           0       -1   \n",
            "2               1              0  26.394521          0           0       -1   \n",
            "3               0              0  39.684932          1           0        1   \n",
            "4               0              1  33.358904          0           0        1   \n",
            "5               1              0  27.391781          0           0        2   \n",
            "6               0              1  34.520548          0           0        0   \n",
            "7               1              0  21.435616          0           0        0   \n",
            "8               1              1  32.641096          0           0        2   \n",
            "9               1              1  28.783562          0           1        1   \n",
            "\n",
            "  RecipientABO RecipientRh ABOmatch CMVstatus  ... Alel HLAgrI Recipientage  \\\n",
            "0            1           1        0         3  ...   -1      0          9.6   \n",
            "1           -1           1        0         0  ...   -1      0          4.0   \n",
            "2           -1           1        0         2  ...   -1      0          6.6   \n",
            "3            2           1        1         1  ...   -1      0         18.1   \n",
            "4            2           0        1         0  ...    0      1          1.3   \n",
            "5            0           1        1         ?  ...   -1      0          8.9   \n",
            "6            1           0        1         ?  ...   -1      0         14.4   \n",
            "7            1           1        1         1  ...    2      7         18.2   \n",
            "8            0           1        1         2  ...   -1      0          7.9   \n",
            "9            0           1        1         2  ...    1      3          4.7   \n",
            "\n",
            "  Recipientage10 Recipientageint CD34kgx10d6   CD3dCD34 CD3dkgx10d8 Rbodymass  \\\n",
            "0              0               1        7.20   1.338760        5.38      35.0   \n",
            "1              0               0        4.50  11.078295        0.41      20.6   \n",
            "2              0               1        7.94  19.013230        0.42      23.4   \n",
            "3              1               2        4.25  29.481647        0.14      50.0   \n",
            "4              0               0       51.85   3.972255       13.05       9.0   \n",
            "5              0               1        3.27   8.412758        0.39      40.0   \n",
            "6              1               2       17.78   2.406248        7.39      51.0   \n",
            "7              1               2        6.41        NaN         NaN      56.0   \n",
            "8              0               1       23.54   3.772555        6.24      20.5   \n",
            "9              0               0        7.69   1.035244        7.43      16.5   \n",
            "\n",
            "  survival_status  \n",
            "0             0.0  \n",
            "1             1.0  \n",
            "2             1.0  \n",
            "3             1.0  \n",
            "4             0.0  \n",
            "5             0.0  \n",
            "6             1.0  \n",
            "7             1.0  \n",
            "8             0.0  \n",
            "9             0.0  \n",
            "\n",
            "[10 rows x 29 columns]\n"
          ]
        }
      ],
      "source": [
        "# List of post-transplant features to exclude\n",
        "post_transplant_features = [\n",
        "    'IIIV', 'aGvHDIIIIV', 'extcGvHD', 'ANCrecovery', 'PLTrecovery',\n",
        "    'time_to_aGvHD_III_IV', 'survival_time', 'Relapse'\n",
        "]\n",
        "\n",
        "# Drop post-transplant features\n",
        "df = df.drop(columns=post_transplant_features)\n",
        "\n",
        "# Check the remaining features\n",
        "print(df.columns)\n",
        "\n",
        "# Example: Display the first few rows of the pre-transplant dataset\n",
        "print(df.head(10))\n"
      ]
    },
    {
      "cell_type": "code",
      "execution_count": null,
      "id": "8fbcb058-9884-4135-8171-084f18a83656",
      "metadata": {
        "colab": {
          "base_uri": "https://localhost:8080/"
        },
        "id": "8fbcb058-9884-4135-8171-084f18a83656",
        "outputId": "33dc5352-9588-4386-ce88-c131863ef4a6"
      },
      "outputs": [
        {
          "output_type": "stream",
          "name": "stdout",
          "text": [
            "Recipientgender     0\n",
            "Stemcellsource      0\n",
            "Donorage            0\n",
            "Donorage35          0\n",
            "Gendermatch         0\n",
            "DonorABO            0\n",
            "RecipientABO        1\n",
            "RecipientRh         2\n",
            "ABOmatch            1\n",
            "CMVstatus          16\n",
            "DonorCMV            2\n",
            "RecipientCMV       14\n",
            "Disease             0\n",
            "Riskgroup           0\n",
            "Txpostrelapse       0\n",
            "Diseasegroup        0\n",
            "HLAmatch            0\n",
            "HLAmismatch         0\n",
            "Antigen             1\n",
            "Alel                1\n",
            "HLAgrI              0\n",
            "Recipientage        0\n",
            "Recipientage10      0\n",
            "Recipientageint     0\n",
            "CD34kgx10d6         0\n",
            "CD3dCD34            5\n",
            "CD3dkgx10d8         5\n",
            "Rbodymass           2\n",
            "survival_status     0\n",
            "dtype: int64\n"
          ]
        }
      ],
      "source": [
        "# We also notice that some columns contain '?', which indicates missing data.\n",
        "# We need to decide how to handle these. For simplicity, let's treat them as NaN and then impute.\n",
        "df.replace('?', np.nan, inplace=True)\n",
        "\n",
        "# Check for missing values after replacing '?' with NaN.\n",
        "print(df.isnull().sum())"
      ]
    },
    {
      "cell_type": "code",
      "execution_count": null,
      "id": "f75cda74-8f8c-4ea8-a94d-8da79804b3e3",
      "metadata": {
        "id": "f75cda74-8f8c-4ea8-a94d-8da79804b3e3"
      },
      "outputs": [],
      "source": [
        "# Prepare the dataset for KNN imputation\n",
        "imputation_data = df[['CD34kgx10d6', 'CD3dkgx10d8', 'CD3dCD34']]\n",
        "\n",
        "# Initialize the KNN imputer\n",
        "knn_imputer = KNNImputer(n_neighbors=5)\n",
        "\n",
        "# Perform the imputation\n",
        "imputed_data = knn_imputer.fit_transform(imputation_data)\n",
        "\n",
        "# Assign the imputed values back to the original dataset\n",
        "df[['CD34kgx10d6', 'CD3dkgx10d8', 'CD3dCD34']] = imputed_data"
      ]
    },
    {
      "cell_type": "code",
      "execution_count": null,
      "id": "43398c46-0f2d-4f10-9d6e-ccc6023f08dc",
      "metadata": {
        "colab": {
          "base_uri": "https://localhost:8080/"
        },
        "id": "43398c46-0f2d-4f10-9d6e-ccc6023f08dc",
        "outputId": "a1ba2311-5995-4803-f018-0909a7dd6165"
      },
      "outputs": [
        {
          "output_type": "stream",
          "name": "stdout",
          "text": [
            "   ABOmatch  survival_status RecipientABO DonorABO\n",
            "0         0              0.0            1        1\n",
            "1         0              1.0           -1       -1\n",
            "2         0              1.0           -1       -1\n",
            "3         1              1.0            2        1\n",
            "4         1              0.0            2        1\n",
            "7         1              1.0            1        0\n",
            "8         1              0.0            0        2\n",
            "9         1              0.0            0        1\n",
            "10        1              0.0           -1        0\n",
            "11        0              0.0            1        1\n"
          ]
        }
      ],
      "source": [
        "# Drop rows with missing 'ABOmatch' values\n",
        "df.dropna(subset=['ABOmatch','Antigen', 'Alel', 'RecipientRh','CMVstatus','RecipientABO', 'DonorABO'], inplace=True)\n",
        "\n",
        "# Display the dataset to check the final state\n",
        "print(df[['ABOmatch', 'survival_status','RecipientABO', 'DonorABO']].head(10))"
      ]
    },
    {
      "cell_type": "code",
      "execution_count": null,
      "id": "b1e65d06-beab-40f8-b475-c23b3e25434e",
      "metadata": {
        "colab": {
          "base_uri": "https://localhost:8080/"
        },
        "id": "b1e65d06-beab-40f8-b475-c23b3e25434e",
        "outputId": "4b3ab905-65e8-4aae-a873-24de8ffe1ba0"
      },
      "outputs": [
        {
          "output_type": "stream",
          "name": "stdout",
          "text": [
            "   CMVstatus DonorCMV RecipientCMV  survival_status\n",
            "0          3        1            1              0.0\n",
            "1          0        0            0              1.0\n",
            "2          2        0            1              1.0\n",
            "3          1        1            0              1.0\n",
            "4          0        0            1              0.0\n",
            "7          1        1            0              1.0\n",
            "8          2        0            1              0.0\n",
            "9          2        0            1              0.0\n",
            "10         1        1            0              0.0\n",
            "11         0        0            0              0.0\n"
          ]
        }
      ],
      "source": [
        "# Function to fill CMVstatus, DonorCMV, and RecipientCMV based on the given rules\n",
        "def fill_cmv_status(row):\n",
        "    # Fill CMVstatus\n",
        "    if pd.notna(row['CMVstatus']):\n",
        "        return row['CMVstatus'], row['DonorCMV'], row['RecipientCMV']\n",
        "\n",
        "    if pd.notna(row['DonorCMV']) and pd.notna(row['RecipientCMV']):\n",
        "        if row['DonorCMV'] == 0 and row['RecipientCMV'] == 0:\n",
        "            return 0, row['DonorCMV'], row['RecipientCMV']\n",
        "        elif row['DonorCMV'] == 1 and row['RecipientCMV'] == 0:\n",
        "            return 1, row['DonorCMV'], row['RecipientCMV']\n",
        "        elif row['DonorCMV'] == 0 and row['RecipientCMV'] == 1:\n",
        "            return 2, row['DonorCMV'], row['RecipientCMV']\n",
        "        elif row['DonorCMV'] == 1 and row['RecipientCMV'] == 1:\n",
        "            return 3, row['DonorCMV'], row['RecipientCMV']\n",
        "\n",
        "    if pd.isna(row['CMVstatus']):\n",
        "        if row['survival_status'] == 0:\n",
        "            if pd.isna(row['DonorCMV']):\n",
        "                donor_cmv = 1 if row['RecipientCMV'] == 1 else 0\n",
        "                return 1 if row['RecipientCMV'] == 1 else 3, donor_cmv, row['RecipientCMV']\n",
        "            if pd.isna(row['RecipientCMV']):\n",
        "                recipient_cmv = 0 if row['DonorCMV'] == 0 else 1\n",
        "                return 2 if row['DonorCMV'] == 0 else 3, row['DonorCMV'], recipient_cmv\n",
        "        else:\n",
        "            if pd.isna(row['DonorCMV']):\n",
        "                donor_cmv = 0 if row['RecipientCMV'] == 0 else 1\n",
        "                return 0 if row['RecipientCMV'] == 0 else 2, donor_cmv, row['RecipientCMV']\n",
        "            if pd.isna(row['RecipientCMV']):\n",
        "                recipient_cmv = 0 if row['DonorCMV'] == 0 else 1\n",
        "                return 0 if row['DonorCMV'] == 0 else 1, row['DonorCMV'], recipient_cmv\n",
        "\n",
        "    return row['CMVstatus'], row['DonorCMV'], row['RecipientCMV']\n",
        "\n",
        "# Apply the function to fill missing CMVstatus, DonorCMV, and RecipientCMV values\n",
        "df[['CMVstatus', 'DonorCMV', 'RecipientCMV']] = df.apply(fill_cmv_status, axis=1, result_type='expand')\n",
        "\n",
        "# Display the first few rows of the modified dataset\n",
        "display_data = df[['CMVstatus', 'DonorCMV', 'RecipientCMV', 'survival_status']]\n",
        "print(display_data.head(10))"
      ]
    },
    {
      "cell_type": "code",
      "execution_count": null,
      "id": "f8ffe11d-7302-4c91-8701-438e1a963365",
      "metadata": {
        "colab": {
          "base_uri": "https://localhost:8080/"
        },
        "id": "f8ffe11d-7302-4c91-8701-438e1a963365",
        "outputId": "44ea25a6-8b3e-4ad7-ef3e-5fc978024071"
      },
      "outputs": [
        {
          "output_type": "stream",
          "name": "stdout",
          "text": [
            "    Rbodymass  Recipientage\n",
            "0        35.0           9.6\n",
            "1        20.6           4.0\n",
            "2        23.4           6.6\n",
            "3        50.0          18.1\n",
            "4         9.0           1.3\n",
            "7        56.0          18.2\n",
            "8        20.5           7.9\n",
            "9        16.5           4.7\n",
            "10       10.5           1.9\n",
            "11       47.0          13.4\n"
          ]
        }
      ],
      "source": [
        "import pandas as pd\n",
        "\n",
        "# Calculate mean body mass for each specific age\n",
        "age_means = df.groupby('Recipientage')['Rbodymass'].mean()\n",
        "\n",
        "# Function to impute missing values with age-specific means\n",
        "def impute_bodymass(row):\n",
        "    if pd.isna(row['Rbodymass']):\n",
        "        return age_means[row['Recipientage']]\n",
        "    else:\n",
        "        return row['Rbodymass']\n",
        "\n",
        "# Apply the imputation function\n",
        "df['Rbodymass'] = df.apply(impute_bodymass, axis=1)\n",
        "\n",
        "\n",
        "# Drop any remaining rows with missing 'Rbodymass' values\n",
        "df.dropna(subset=['Rbodymass'], inplace=True)\n",
        "\n",
        "\n",
        "# Display the dataset to check the imputed values\n",
        "print(df[['Rbodymass', 'Recipientage']].head(10))\n",
        "\n"
      ]
    },
    {
      "cell_type": "code",
      "execution_count": null,
      "id": "63c4ce9c-1dd4-48b7-813a-4c7cd101f5f6",
      "metadata": {
        "colab": {
          "base_uri": "https://localhost:8080/"
        },
        "id": "63c4ce9c-1dd4-48b7-813a-4c7cd101f5f6",
        "outputId": "a0425557-2e33-4360-9424-2462b1ee189e"
      },
      "outputs": [
        {
          "output_type": "stream",
          "name": "stdout",
          "text": [
            "   Recipientgender Stemcellsource   Donorage Donorage35 Gendermatch DonorABO  \\\n",
            "0                1              1  22.830137          0           0        1   \n",
            "1                1              0  23.342466          0           0       -1   \n",
            "2                1              0  26.394521          0           0       -1   \n",
            "3                0              0  39.684932          1           0        1   \n",
            "4                0              1  33.358904          0           0        1   \n",
            "7                1              0  21.435616          0           0        0   \n",
            "8                1              1  32.641096          0           0        2   \n",
            "9                1              1  28.783562          0           1        1   \n",
            "10               0              1  29.731507          0           0        0   \n",
            "11               0              1  36.800000          1           0        1   \n",
            "\n",
            "   RecipientABO RecipientRh ABOmatch CMVstatus  ... CD34kgx10d6   CD3dCD34  \\\n",
            "0             1           1        0         3  ...        7.20   1.338760   \n",
            "1            -1           1        0         0  ...        4.50  11.078295   \n",
            "2            -1           1        0         2  ...        7.94  19.013230   \n",
            "3             2           1        1         1  ...        4.25  29.481647   \n",
            "4             2           0        1         0  ...       51.85   3.972255   \n",
            "7             1           1        1         1  ...        6.41   4.832281   \n",
            "8             0           1        1         2  ...       23.54   3.772555   \n",
            "9             0           1        1         2  ...        7.69   1.035244   \n",
            "10           -1           1        1         1  ...       17.66  11.883664   \n",
            "11            1           1        0         0  ...       14.46   2.242442   \n",
            "\n",
            "   CD3dkgx10d8 Rbodymass survival_status Disease_ALL Disease_AML  \\\n",
            "0        5.380      35.0             0.0        True       False   \n",
            "1        0.410      20.6             1.0        True       False   \n",
            "2        0.420      23.4             1.0        True       False   \n",
            "3        0.140      50.0             1.0       False        True   \n",
            "4       13.050       9.0             0.0       False       False   \n",
            "7        3.188      56.0             1.0       False       False   \n",
            "8        6.240      20.5             0.0       False       False   \n",
            "9        7.430      16.5             0.0       False       False   \n",
            "10       1.490      10.5             0.0       False       False   \n",
            "11       6.450      47.0             0.0       False       False   \n",
            "\n",
            "   Disease_chronic Disease_lymphoma Disease_nonmalignant  \n",
            "0            False            False                False  \n",
            "1            False            False                False  \n",
            "2            False            False                False  \n",
            "3            False            False                False  \n",
            "4             True            False                False  \n",
            "7            False            False                 True  \n",
            "8            False            False                 True  \n",
            "9            False            False                 True  \n",
            "10            True            False                False  \n",
            "11            True            False                False  \n",
            "\n",
            "[10 rows x 33 columns]\n"
          ]
        }
      ],
      "source": [
        "# One-hot encode the 'Disease' column\n",
        "df = pd.get_dummies(df, columns=['Disease'], drop_first=False)\n",
        "\n",
        "# Display the dataset to check the one-hot encoded 'Disease' column\n",
        "print(df.head(10))"
      ]
    },
    {
      "cell_type": "code",
      "execution_count": null,
      "id": "92ce2659-61ad-4abf-9c13-ed2dd19df1fd",
      "metadata": {
        "colab": {
          "base_uri": "https://localhost:8080/"
        },
        "id": "92ce2659-61ad-4abf-9c13-ed2dd19df1fd",
        "outputId": "7f61cfa2-70ed-4dbb-9e1c-c58f685650b5"
      },
      "outputs": [
        {
          "output_type": "stream",
          "name": "stdout",
          "text": [
            "Recipientgender         0\n",
            "Stemcellsource          0\n",
            "Donorage                0\n",
            "Donorage35              0\n",
            "Gendermatch             0\n",
            "DonorABO                0\n",
            "RecipientABO            0\n",
            "RecipientRh             0\n",
            "ABOmatch                0\n",
            "CMVstatus               0\n",
            "DonorCMV                0\n",
            "RecipientCMV            0\n",
            "Riskgroup               0\n",
            "Txpostrelapse           0\n",
            "Diseasegroup            0\n",
            "HLAmatch                0\n",
            "HLAmismatch             0\n",
            "Antigen                 0\n",
            "Alel                    0\n",
            "HLAgrI                  0\n",
            "Recipientage            0\n",
            "Recipientage10          0\n",
            "Recipientageint         0\n",
            "CD34kgx10d6             0\n",
            "CD3dCD34                0\n",
            "CD3dkgx10d8             0\n",
            "Rbodymass               0\n",
            "survival_status         0\n",
            "Disease_ALL             0\n",
            "Disease_AML             0\n",
            "Disease_chronic         0\n",
            "Disease_lymphoma        0\n",
            "Disease_nonmalignant    0\n",
            "dtype: int64\n"
          ]
        }
      ],
      "source": [
        "# Check for missing values after imputing them\n",
        "print(df.isnull().sum())"
      ]
    },
    {
      "cell_type": "code",
      "execution_count": null,
      "id": "80980a10-a575-4638-9bc5-d003985fe0dc",
      "metadata": {
        "id": "80980a10-a575-4638-9bc5-d003985fe0dc"
      },
      "outputs": [],
      "source": [
        "# Assume 'survival_status' is the target variable and it's binary\n",
        "y = df['survival_status']  # target variable\n",
        "X = df.drop('survival_status', axis=1)  # features\n",
        "\n",
        "# Ensure all input features for chi2 are non-negative\n",
        "# Chi-Square input needs to be non-negative. If not, use MinMaxScaler to scale them\n",
        "from sklearn.preprocessing import MinMaxScaler\n",
        "scaler = MinMaxScaler()\n",
        "X_scaled = scaler.fit_transform(X)\n",
        "X = pd.DataFrame(X_scaled, columns=X.columns)"
      ]
    },
    {
      "cell_type": "code",
      "execution_count": null,
      "id": "1b1fcfb1-f592-4cc3-a3a7-bc096569d41e",
      "metadata": {
        "colab": {
          "base_uri": "https://localhost:8080/"
        },
        "id": "1b1fcfb1-f592-4cc3-a3a7-bc096569d41e",
        "outputId": "fb7f1443-a006-40d5-eb9f-85773a109064"
      },
      "outputs": [
        {
          "output_type": "stream",
          "name": "stdout",
          "text": [
            "                 Feature     Score\n",
            "30      Disease_lymphoma  9.109589\n",
            "13         Txpostrelapse  3.002626\n",
            "12             Riskgroup  2.384081\n",
            "21        Recipientage10  1.395818\n",
            "26             Rbodymass  1.081810\n",
            "25           CD3dkgx10d8  0.958306\n",
            "31  Disease_nonmalignant  0.949551\n",
            "23           CD34kgx10d6  0.841769\n",
            "3             Donorage35  0.813180\n",
            "20          Recipientage  0.747882\n",
            "7            RecipientRh  0.673072\n"
          ]
        }
      ],
      "source": [
        "# Apply SelectKBest class to extract top k best features using Chi-Square\n",
        "k = 11  # Number of features to select\n",
        "bestfeatures = SelectKBest(score_func=chi2, k=k)\n",
        "fit = bestfeatures.fit(X, y)\n",
        "\n",
        "# Get the scores for each feature\n",
        "dfscores = pd.DataFrame(fit.scores_)\n",
        "dfcolumns = pd.DataFrame(X.columns)\n",
        "\n",
        "# Concatenate the two dataframes for better visualization\n",
        "featureScores = pd.concat([dfcolumns, dfscores], axis=1)\n",
        "featureScores.columns = ['Feature', 'Score']  # Naming the dataframe columns\n",
        "print(featureScores.nlargest(k, 'Score'))  # Print k best features\n"
      ]
    },
    {
      "cell_type": "code",
      "execution_count": null,
      "id": "d1ace3d2-27ea-4311-8d90-df5084085c30",
      "metadata": {
        "id": "d1ace3d2-27ea-4311-8d90-df5084085c30"
      },
      "outputs": [],
      "source": [
        "\n",
        "# Selecting top features\n",
        "features = ['Recipientgender', 'Stemcellsource', 'Donorage', 'Donorage35',\n",
        "       'Gendermatch', 'DonorABO', 'RecipientABO', 'RecipientRh', 'ABOmatch',\n",
        "       'CMVstatus', 'DonorCMV', 'RecipientCMV', 'Disease_lymphoma', 'Riskgroup',\n",
        "       'Txpostrelapse', 'Diseasegroup', 'HLAmatch', 'HLAmismatch', 'Antigen',\n",
        "       'Alel', 'HLAgrI', 'Recipientage', 'Recipientage10', 'Recipientageint',\n",
        "       'CD34kgx10d6', 'CD3dCD34', 'CD3dkgx10d8', 'Rbodymass','Disease_ALL' , 'Disease_AML' , 'Disease_chronic' , 'Disease_nonmalignant'\n",
        "       ]\n",
        "top_features=[ 'Disease_lymphoma', 'Riskgroup',\n",
        "       'Txpostrelapse','Recipientage10'\n",
        "       ]\n",
        "\n"
      ]
    },
    {
      "cell_type": "code",
      "execution_count": null,
      "id": "f68e2749-6843-4214-9c3c-765bffe0febb",
      "metadata": {
        "colab": {
          "base_uri": "https://localhost:8080/"
        },
        "id": "f68e2749-6843-4214-9c3c-765bffe0febb",
        "outputId": "6fceb95b-284c-4a27-9cdb-53e78b67f35a"
      },
      "outputs": [
        {
          "output_type": "stream",
          "name": "stdout",
          "text": [
            "Classification Report for DT:\n",
            "              precision    recall  f1-score   support\n",
            "\n",
            "         0.0       0.60      0.47      0.53        19\n",
            "         1.0       0.47      0.60      0.53        15\n",
            "\n",
            "    accuracy                           0.53        34\n",
            "   macro avg       0.54      0.54      0.53        34\n",
            "weighted avg       0.54      0.53      0.53        34\n",
            "\n",
            "Average Training Accuracy for DT: 0.5900\n",
            "Testing Accuracy for DT: 0.5294\n",
            "------------------------------------------------\n",
            "\n",
            "Classification Report for RF:\n",
            "              precision    recall  f1-score   support\n",
            "\n",
            "         0.0       0.60      0.47      0.53        19\n",
            "         1.0       0.47      0.60      0.53        15\n",
            "\n",
            "    accuracy                           0.53        34\n",
            "   macro avg       0.54      0.54      0.53        34\n",
            "weighted avg       0.54      0.53      0.53        34\n",
            "\n",
            "Average Training Accuracy for RF: 0.5826\n",
            "Testing Accuracy for RF: 0.5294\n",
            "------------------------------------------------\n",
            "\n",
            "Classification Report for KNN:\n",
            "              precision    recall  f1-score   support\n",
            "\n",
            "         0.0       0.60      0.47      0.53        19\n",
            "         1.0       0.47      0.60      0.53        15\n",
            "\n",
            "    accuracy                           0.53        34\n",
            "   macro avg       0.54      0.54      0.53        34\n",
            "weighted avg       0.54      0.53      0.53        34\n",
            "\n",
            "Average Training Accuracy for KNN: 0.5829\n",
            "Testing Accuracy for KNN: 0.5294\n",
            "------------------------------------------------\n",
            "\n",
            "Classification Report for NB:\n",
            "              precision    recall  f1-score   support\n",
            "\n",
            "         0.0       0.61      1.00      0.76        19\n",
            "         1.0       1.00      0.20      0.33        15\n",
            "\n",
            "    accuracy                           0.65        34\n",
            "   macro avg       0.81      0.60      0.55        34\n",
            "weighted avg       0.78      0.65      0.57        34\n",
            "\n",
            "Average Training Accuracy for NB: 0.5969\n",
            "Testing Accuracy for NB: 0.6471\n",
            "------------------------------------------------\n",
            "\n",
            "Classification Report for SVM:\n",
            "              precision    recall  f1-score   support\n",
            "\n",
            "         0.0       0.60      0.47      0.53        19\n",
            "         1.0       0.47      0.60      0.53        15\n",
            "\n",
            "    accuracy                           0.53        34\n",
            "   macro avg       0.54      0.54      0.53        34\n",
            "weighted avg       0.54      0.53      0.53        34\n",
            "\n",
            "Average Training Accuracy for SVM: 0.5900\n",
            "Testing Accuracy for SVM: 0.5294\n",
            "------------------------------------------------\n",
            "\n"
          ]
        },
        {
          "output_type": "stream",
          "name": "stderr",
          "text": [
            "/usr/local/lib/python3.10/dist-packages/scikeras/wrappers.py:925: UserWarning: ``build_fn`` will be renamed to ``model`` in a future release, at which point use of ``build_fn`` will raise an Error instead.\n",
            "  X, y = self._initialize(X, y)\n",
            "/usr/local/lib/python3.10/dist-packages/keras/src/layers/core/dense.py:87: UserWarning: Do not pass an `input_shape`/`input_dim` argument to a layer. When using Sequential models, prefer using an `Input(shape)` object as the first layer in the model instead.\n",
            "  super().__init__(activity_regularizer=activity_regularizer, **kwargs)\n",
            "/usr/local/lib/python3.10/dist-packages/scikeras/wrappers.py:925: UserWarning: ``build_fn`` will be renamed to ``model`` in a future release, at which point use of ``build_fn`` will raise an Error instead.\n",
            "  X, y = self._initialize(X, y)\n",
            "/usr/local/lib/python3.10/dist-packages/keras/src/layers/core/dense.py:87: UserWarning: Do not pass an `input_shape`/`input_dim` argument to a layer. When using Sequential models, prefer using an `Input(shape)` object as the first layer in the model instead.\n",
            "  super().__init__(activity_regularizer=activity_regularizer, **kwargs)\n",
            "/usr/local/lib/python3.10/dist-packages/scikeras/wrappers.py:925: UserWarning: ``build_fn`` will be renamed to ``model`` in a future release, at which point use of ``build_fn`` will raise an Error instead.\n",
            "  X, y = self._initialize(X, y)\n",
            "/usr/local/lib/python3.10/dist-packages/keras/src/layers/core/dense.py:87: UserWarning: Do not pass an `input_shape`/`input_dim` argument to a layer. When using Sequential models, prefer using an `Input(shape)` object as the first layer in the model instead.\n",
            "  super().__init__(activity_regularizer=activity_regularizer, **kwargs)\n",
            "/usr/local/lib/python3.10/dist-packages/scikeras/wrappers.py:925: UserWarning: ``build_fn`` will be renamed to ``model`` in a future release, at which point use of ``build_fn`` will raise an Error instead.\n",
            "  X, y = self._initialize(X, y)\n",
            "/usr/local/lib/python3.10/dist-packages/keras/src/layers/core/dense.py:87: UserWarning: Do not pass an `input_shape`/`input_dim` argument to a layer. When using Sequential models, prefer using an `Input(shape)` object as the first layer in the model instead.\n",
            "  super().__init__(activity_regularizer=activity_regularizer, **kwargs)\n",
            "/usr/local/lib/python3.10/dist-packages/scikeras/wrappers.py:925: UserWarning: ``build_fn`` will be renamed to ``model`` in a future release, at which point use of ``build_fn`` will raise an Error instead.\n",
            "  X, y = self._initialize(X, y)\n",
            "/usr/local/lib/python3.10/dist-packages/keras/src/layers/core/dense.py:87: UserWarning: Do not pass an `input_shape`/`input_dim` argument to a layer. When using Sequential models, prefer using an `Input(shape)` object as the first layer in the model instead.\n",
            "  super().__init__(activity_regularizer=activity_regularizer, **kwargs)\n"
          ]
        },
        {
          "output_type": "stream",
          "name": "stdout",
          "text": [
            "Classification Report for ANN:\n",
            "              precision    recall  f1-score   support\n",
            "\n",
            "         0.0       0.60      0.47      0.53        19\n",
            "         1.0       0.47      0.60      0.53        15\n",
            "\n",
            "    accuracy                           0.53        34\n",
            "   macro avg       0.54      0.54      0.53        34\n",
            "weighted avg       0.54      0.53      0.53        34\n",
            "\n",
            "Average Training Accuracy for ANN: 0.6567\n",
            "Testing Accuracy for ANN: 0.5974\n",
            "------------------------------------------------\n",
            "\n"
          ]
        }
      ],
      "source": [
        "\n",
        "# Prepare the data\n",
        "X = df[top_features]\n",
        "y = df['survival_status']\n",
        "\n",
        "# Split the data into training and testing sets\n",
        "X_train, X_test, y_train, y_test = train_test_split(X, y, test_size=0.2, random_state=42)\n",
        "\n",
        "# Scale the features\n",
        "scaler = StandardScaler()\n",
        "X_train_scaled = scaler.fit_transform(X_train)\n",
        "X_test_scaled = scaler.transform(X_test)\n",
        "\n",
        "# Define the models\n",
        "def create_model():\n",
        "    model = Sequential([\n",
        "        Dense(12, activation='relu', input_shape=(X_train_scaled.shape[1],)),\n",
        "        Dense(8, activation='relu'),\n",
        "        Dense(1, activation='sigmoid')\n",
        "    ])\n",
        "    model.compile(optimizer='adam', loss='binary_crossentropy', metrics=['accuracy'])\n",
        "    return model\n",
        "\n",
        "models = {\n",
        "    \"DT\": DecisionTreeClassifier(),\n",
        "    \"RF\": RandomForestClassifier(),\n",
        "    \"KNN\": KNeighborsClassifier(),\n",
        "    \"NB\": GaussianNB(),\n",
        "    \"SVM\": SVC(probability=True),\n",
        "    \"ANN\": KerasClassifier(build_fn=create_model, epochs=100, batch_size=10, verbose=0)\n",
        "}\n",
        "\n",
        "# Perform cross-validation on the training set\n",
        "skf = StratifiedKFold(n_splits=5, shuffle=True, random_state=42)\n",
        "\n",
        "for name, model in models.items():\n",
        "    if name == \"ANN\":\n",
        "        # Keras models do not directly support cross_val_score\n",
        "        train_accuracies = []\n",
        "        test_accuracies = []\n",
        "        for train_index, val_index in skf.split(X_train_scaled, y_train):\n",
        "            X_train_fold, X_val_fold = X_train_scaled[train_index], X_train_scaled[val_index]\n",
        "            y_train_fold, y_val_fold = y_train.iloc[train_index], y_train.iloc[val_index]\n",
        "\n",
        "            model.fit(X_train_fold, y_train_fold)\n",
        "            train_accuracy = model.score(X_train_fold, y_train_fold)\n",
        "            y_val_pred = model.predict(X_val_fold)\n",
        "            test_accuracy = accuracy_score(y_val_fold, (y_val_pred > 0.5).astype(int))\n",
        "\n",
        "            train_accuracies.append(train_accuracy)\n",
        "            test_accuracies.append(test_accuracy)\n",
        "\n",
        "        avg_train_accuracy = sum(train_accuracies) / len(train_accuracies)\n",
        "        avg_test_accuracy = sum(test_accuracies) / len(test_accuracies)\n",
        "\n",
        "    else:\n",
        "        train_accuracies = cross_val_score(model, X_train_scaled, y_train, cv=skf, scoring='accuracy')\n",
        "        avg_train_accuracy = train_accuracies.mean()\n",
        "        model.fit(X_train_scaled, y_train)\n",
        "        y_pred = model.predict(X_test_scaled)\n",
        "        avg_test_accuracy = accuracy_score(y_test, y_pred)\n",
        "\n",
        "    # Generate classification report\n",
        "    report = classification_report(y_test, y_pred)\n",
        "    print(f\"Classification Report for {name}:\")\n",
        "    print(report)\n",
        "\n",
        "    # Print accuracies\n",
        "    print(f\"Average Training Accuracy for {name}: {avg_train_accuracy:.4f}\")\n",
        "    print(f\"Testing Accuracy for {name}: {avg_test_accuracy:.4f}\")\n",
        "    print(\"------------------------------------------------\\n\")\n"
      ]
    },
    {
      "cell_type": "code",
      "execution_count": null,
      "id": "9ac2f2dd-cd2e-4077-8360-2a36e6609ec1",
      "metadata": {
        "colab": {
          "base_uri": "https://localhost:8080/",
          "height": 343
        },
        "id": "9ac2f2dd-cd2e-4077-8360-2a36e6609ec1",
        "outputId": "e5787e44-14e8-427a-a2d2-2297c2015af0"
      },
      "outputs": [
        {
          "output_type": "stream",
          "name": "stdout",
          "text": [
            "Evaluating feature set: ('Disease_lymphoma', 'Riskgroup', 'Txpostrelapse')\n"
          ]
        },
        {
          "output_type": "error",
          "ename": "NameError",
          "evalue": "name 'df' is not defined",
          "traceback": [
            "\u001b[0;31m---------------------------------------------------------------------------\u001b[0m",
            "\u001b[0;31mNameError\u001b[0m                                 Traceback (most recent call last)",
            "\u001b[0;32m<ipython-input-2-1a77d68770a5>\u001b[0m in \u001b[0;36m<cell line: 91>\u001b[0;34m()\u001b[0m\n\u001b[1;32m     91\u001b[0m \u001b[0;32mfor\u001b[0m \u001b[0mfeature_set\u001b[0m \u001b[0;32min\u001b[0m \u001b[0mall_combinations\u001b[0m\u001b[0;34m:\u001b[0m\u001b[0;34m\u001b[0m\u001b[0;34m\u001b[0m\u001b[0m\n\u001b[1;32m     92\u001b[0m     \u001b[0mprint\u001b[0m\u001b[0;34m(\u001b[0m\u001b[0;34mf\"Evaluating feature set: {feature_set}\"\u001b[0m\u001b[0;34m)\u001b[0m\u001b[0;34m\u001b[0m\u001b[0;34m\u001b[0m\u001b[0m\n\u001b[0;32m---> 93\u001b[0;31m     \u001b[0mresults\u001b[0m \u001b[0;34m=\u001b[0m \u001b[0mevaluate_features\u001b[0m\u001b[0;34m(\u001b[0m\u001b[0mfeature_set\u001b[0m\u001b[0;34m)\u001b[0m\u001b[0;34m\u001b[0m\u001b[0;34m\u001b[0m\u001b[0m\n\u001b[0m\u001b[1;32m     94\u001b[0m \u001b[0;34m\u001b[0m\u001b[0m\n\u001b[1;32m     95\u001b[0m     \u001b[0;32mfor\u001b[0m \u001b[0mmodel_name\u001b[0m\u001b[0;34m,\u001b[0m \u001b[0mresult\u001b[0m \u001b[0;32min\u001b[0m \u001b[0mresults\u001b[0m\u001b[0;34m.\u001b[0m\u001b[0mitems\u001b[0m\u001b[0;34m(\u001b[0m\u001b[0;34m)\u001b[0m\u001b[0;34m:\u001b[0m\u001b[0;34m\u001b[0m\u001b[0;34m\u001b[0m\u001b[0m\n",
            "\u001b[0;32m<ipython-input-2-1a77d68770a5>\u001b[0m in \u001b[0;36mevaluate_features\u001b[0;34m(feature_set)\u001b[0m\n\u001b[1;32m     17\u001b[0m \u001b[0;31m# Function to evaluate a given set of features\u001b[0m\u001b[0;34m\u001b[0m\u001b[0;34m\u001b[0m\u001b[0m\n\u001b[1;32m     18\u001b[0m \u001b[0;32mdef\u001b[0m \u001b[0mevaluate_features\u001b[0m\u001b[0;34m(\u001b[0m\u001b[0mfeature_set\u001b[0m\u001b[0;34m)\u001b[0m\u001b[0;34m:\u001b[0m\u001b[0;34m\u001b[0m\u001b[0;34m\u001b[0m\u001b[0m\n\u001b[0;32m---> 19\u001b[0;31m     \u001b[0mX\u001b[0m \u001b[0;34m=\u001b[0m \u001b[0mdf\u001b[0m\u001b[0;34m[\u001b[0m\u001b[0mlist\u001b[0m\u001b[0;34m(\u001b[0m\u001b[0mfeature_set\u001b[0m\u001b[0;34m)\u001b[0m\u001b[0;34m]\u001b[0m\u001b[0;34m\u001b[0m\u001b[0;34m\u001b[0m\u001b[0m\n\u001b[0m\u001b[1;32m     20\u001b[0m     \u001b[0my\u001b[0m \u001b[0;34m=\u001b[0m \u001b[0mdf\u001b[0m\u001b[0;34m[\u001b[0m\u001b[0;34m'survival_status'\u001b[0m\u001b[0;34m]\u001b[0m\u001b[0;34m\u001b[0m\u001b[0;34m\u001b[0m\u001b[0m\n\u001b[1;32m     21\u001b[0m \u001b[0;34m\u001b[0m\u001b[0m\n",
            "\u001b[0;31mNameError\u001b[0m: name 'df' is not defined"
          ]
        }
      ],
      "source": [
        "import itertools\n",
        "features = [ 'Disease_lymphoma', 'Riskgroup',\n",
        "       'Txpostrelapse','Recipientage10','Rbodymass','CD3dkgx10d8','Disease_nonmalignant'\n",
        "       ]\n",
        "\n",
        "\n",
        "# Define the models\n",
        "def create_model(input_shape):\n",
        "    model = Sequential([\n",
        "        Dense(12, activation='relu', input_shape=(input_shape,)),\n",
        "        Dense(8, activation='relu'),\n",
        "        Dense(1, activation='sigmoid')\n",
        "    ])\n",
        "    model.compile(optimizer='adam', loss='binary_crossentropy', metrics=['accuracy'])\n",
        "    return model\n",
        "\n",
        "# Function to evaluate a given set of features\n",
        "def evaluate_features(feature_set):\n",
        "    X = df[list(feature_set)]\n",
        "    y = df['survival_status']\n",
        "\n",
        "    # Split the data into training and testing sets\n",
        "    X_train, X_test, y_train, y_test = train_test_split(X, y, test_size=0.2, random_state=42)\n",
        "\n",
        "    # Scale the features\n",
        "    scaler = StandardScaler()\n",
        "    X_train_scaled = scaler.fit_transform(X_train)\n",
        "    X_test_scaled = scaler.transform(X_test)\n",
        "\n",
        "    # Perform cross-validation on the training set\n",
        "    skf = StratifiedKFold(n_splits=5, shuffle=True, random_state=42)\n",
        "\n",
        "    models = {\n",
        "        \"DT\": DecisionTreeClassifier(),\n",
        "        \"RF\": RandomForestClassifier(),\n",
        "        \"KNN\": KNeighborsClassifier(),\n",
        "        \"NB\": GaussianNB(),\n",
        "        \"SVM\": SVC(probability=True),\n",
        "        \"ANN\": KerasClassifier(model=create_model, model__input_shape=X_train_scaled.shape[1], epochs=100, batch_size=10, verbose=0)\n",
        "    }\n",
        "\n",
        "    results = {}\n",
        "\n",
        "    for name, model in models.items():\n",
        "        if name == \"ANN\":\n",
        "            # Keras models do not directly support cross_val_score\n",
        "            train_accuracies = []\n",
        "            test_accuracies = []\n",
        "            for train_index, val_index in skf.split(X_train_scaled, y_train):\n",
        "                X_train_fold, X_val_fold = X_train_scaled[train_index], X_train_scaled[val_index]\n",
        "                y_train_fold, y_val_fold = y_train.iloc[train_index], y_train.iloc[val_index]\n",
        "\n",
        "                model = KerasClassifier(model=create_model, model__input_shape=X_train_fold.shape[1], epochs=100, batch_size=10, verbose=0)\n",
        "                model.fit(X_train_fold, y_train_fold)\n",
        "                train_accuracy = model.score(X_train_fold, y_train_fold)\n",
        "                y_val_pred = model.predict(X_val_fold)\n",
        "                test_accuracy = accuracy_score(y_val_fold, (y_val_pred > 0.5).astype(int))\n",
        "\n",
        "                train_accuracies.append(train_accuracy)\n",
        "                test_accuracies.append(test_accuracy)\n",
        "\n",
        "            avg_train_accuracy = np.mean(train_accuracies)\n",
        "            avg_test_accuracy = np.mean(test_accuracies)\n",
        "\n",
        "        else:\n",
        "            train_accuracies = cross_val_score(model, X_train_scaled, y_train, cv=skf, scoring='accuracy')\n",
        "            avg_train_accuracy = train_accuracies.mean()\n",
        "            model.fit(X_train_scaled, y_train)\n",
        "            y_pred = model.predict(X_test_scaled)\n",
        "            avg_test_accuracy = accuracy_score(y_test, y_pred)\n",
        "\n",
        "        # Generate classification report\n",
        "        report = classification_report(y_test, y_pred)\n",
        "        results[name] = {\n",
        "            \"train_accuracy\": avg_train_accuracy,\n",
        "            \"test_accuracy\": avg_test_accuracy,\n",
        "            \"report\": report\n",
        "        }\n",
        "\n",
        "    return results\n",
        "\n",
        "# Generate all combinations of features (limiting to 3 to 5 features for manageability)\n",
        "all_combinations = []\n",
        "for r in range(3, 6):\n",
        "    combinations = list(itertools.combinations(features, r))\n",
        "    all_combinations.extend(combinations)\n",
        "\n",
        "best_results = {}\n",
        "\n",
        "# Evaluate each combination\n",
        "for feature_set in all_combinations:\n",
        "    print(f\"Evaluating feature set: {feature_set}\")\n",
        "    results = evaluate_features(feature_set)\n",
        "\n",
        "    for model_name, result in results.items():\n",
        "        if model_name not in best_results or result['test_accuracy'] > best_results[model_name]['test_accuracy']:\n",
        "            best_results[model_name] = {\n",
        "                \"features\": feature_set,\n",
        "                \"train_accuracy\": result['train_accuracy'],\n",
        "                \"test_accuracy\": result['test_accuracy'],\n",
        "                \"report\": result['report']\n",
        "            }\n",
        "\n",
        "# Print the best results for each model\n",
        "for model_name, result in best_results.items():\n",
        "    print(f\"Best feature set for {model_name}: {result['features']}\")\n",
        "    print(f\"Average Training Accuracy: {result['train_accuracy']:.4f}\")\n",
        "    print(f\"Testing Accuracy: {result['test_accuracy']:.4f}\")\n",
        "    print(f\"Classification Report:\\n{result['report']}\")\n",
        "    print(\"------------------------------------------------\\n\")\n"
      ]
    },
    {
      "cell_type": "code",
      "execution_count": 53,
      "id": "b2294913-993d-4a43-97d9-ba51b3b0fc71",
      "metadata": {
        "colab": {
          "base_uri": "https://localhost:8080/"
        },
        "id": "b2294913-993d-4a43-97d9-ba51b3b0fc71",
        "outputId": "5eec3da3-16d0-4392-d2cc-7975db961494"
      },
      "outputs": [
        {
          "output_type": "stream",
          "name": "stdout",
          "text": [
            "Classification Report for DT:\n",
            "              precision    recall  f1-score   support\n",
            "\n",
            "         0.0       0.63      0.89      0.74        19\n",
            "         1.0       0.71      0.33      0.45        15\n",
            "\n",
            "    accuracy                           0.65        34\n",
            "   macro avg       0.67      0.61      0.60        34\n",
            "weighted avg       0.67      0.65      0.61        34\n",
            "\n",
            "Average Training Accuracy for DT: 0.5969\n",
            "Testing Accuracy for DT: 0.6471\n",
            "------------------------------------------------\n",
            "\n",
            "Classification Report for RF:\n",
            "              precision    recall  f1-score   support\n",
            "\n",
            "         0.0       0.63      0.89      0.74        19\n",
            "         1.0       0.71      0.33      0.45        15\n",
            "\n",
            "    accuracy                           0.65        34\n",
            "   macro avg       0.67      0.61      0.60        34\n",
            "weighted avg       0.67      0.65      0.61        34\n",
            "\n",
            "Average Training Accuracy for RF: 0.5977\n",
            "Testing Accuracy for RF: 0.6471\n",
            "------------------------------------------------\n",
            "\n",
            "Classification Report for KNN:\n",
            "              precision    recall  f1-score   support\n",
            "\n",
            "         0.0       0.00      0.00      0.00        19\n",
            "         1.0       0.44      1.00      0.61        15\n",
            "\n",
            "    accuracy                           0.44        34\n",
            "   macro avg       0.22      0.50      0.31        34\n",
            "weighted avg       0.19      0.44      0.27        34\n",
            "\n",
            "Average Training Accuracy for KNN: 0.5459\n",
            "Testing Accuracy for KNN: 0.4412\n",
            "------------------------------------------------\n",
            "\n",
            "Classification Report for NB:\n",
            "              precision    recall  f1-score   support\n",
            "\n",
            "         0.0       0.61      1.00      0.76        19\n",
            "         1.0       1.00      0.20      0.33        15\n",
            "\n",
            "    accuracy                           0.65        34\n",
            "   macro avg       0.81      0.60      0.55        34\n",
            "weighted avg       0.78      0.65      0.57        34\n",
            "\n",
            "Average Training Accuracy for NB: 0.5969\n",
            "Testing Accuracy for NB: 0.6471\n",
            "------------------------------------------------\n",
            "\n"
          ]
        },
        {
          "output_type": "stream",
          "name": "stderr",
          "text": [
            "/usr/local/lib/python3.10/dist-packages/sklearn/metrics/_classification.py:1344: UndefinedMetricWarning: Precision and F-score are ill-defined and being set to 0.0 in labels with no predicted samples. Use `zero_division` parameter to control this behavior.\n",
            "  _warn_prf(average, modifier, msg_start, len(result))\n",
            "/usr/local/lib/python3.10/dist-packages/sklearn/metrics/_classification.py:1344: UndefinedMetricWarning: Precision and F-score are ill-defined and being set to 0.0 in labels with no predicted samples. Use `zero_division` parameter to control this behavior.\n",
            "  _warn_prf(average, modifier, msg_start, len(result))\n",
            "/usr/local/lib/python3.10/dist-packages/sklearn/metrics/_classification.py:1344: UndefinedMetricWarning: Precision and F-score are ill-defined and being set to 0.0 in labels with no predicted samples. Use `zero_division` parameter to control this behavior.\n",
            "  _warn_prf(average, modifier, msg_start, len(result))\n",
            "/usr/local/lib/python3.10/dist-packages/scikeras/wrappers.py:925: UserWarning: ``build_fn`` will be renamed to ``model`` in a future release, at which point use of ``build_fn`` will raise an Error instead.\n",
            "  X, y = self._initialize(X, y)\n"
          ]
        },
        {
          "output_type": "stream",
          "name": "stdout",
          "text": [
            "Classification Report for SVM:\n",
            "              precision    recall  f1-score   support\n",
            "\n",
            "         0.0       0.63      0.89      0.74        19\n",
            "         1.0       0.71      0.33      0.45        15\n",
            "\n",
            "    accuracy                           0.65        34\n",
            "   macro avg       0.67      0.61      0.60        34\n",
            "weighted avg       0.67      0.65      0.61        34\n",
            "\n",
            "Average Training Accuracy for SVM: 0.5524\n",
            "Testing Accuracy for SVM: 0.6471\n",
            "------------------------------------------------\n",
            "\n"
          ]
        },
        {
          "output_type": "stream",
          "name": "stderr",
          "text": [
            "/usr/local/lib/python3.10/dist-packages/keras/src/layers/core/dense.py:87: UserWarning: Do not pass an `input_shape`/`input_dim` argument to a layer. When using Sequential models, prefer using an `Input(shape)` object as the first layer in the model instead.\n",
            "  super().__init__(activity_regularizer=activity_regularizer, **kwargs)\n",
            "/usr/local/lib/python3.10/dist-packages/scikeras/wrappers.py:925: UserWarning: ``build_fn`` will be renamed to ``model`` in a future release, at which point use of ``build_fn`` will raise an Error instead.\n",
            "  X, y = self._initialize(X, y)\n",
            "/usr/local/lib/python3.10/dist-packages/keras/src/layers/core/dense.py:87: UserWarning: Do not pass an `input_shape`/`input_dim` argument to a layer. When using Sequential models, prefer using an `Input(shape)` object as the first layer in the model instead.\n",
            "  super().__init__(activity_regularizer=activity_regularizer, **kwargs)\n",
            "/usr/local/lib/python3.10/dist-packages/scikeras/wrappers.py:925: UserWarning: ``build_fn`` will be renamed to ``model`` in a future release, at which point use of ``build_fn`` will raise an Error instead.\n",
            "  X, y = self._initialize(X, y)\n",
            "/usr/local/lib/python3.10/dist-packages/keras/src/layers/core/dense.py:87: UserWarning: Do not pass an `input_shape`/`input_dim` argument to a layer. When using Sequential models, prefer using an `Input(shape)` object as the first layer in the model instead.\n",
            "  super().__init__(activity_regularizer=activity_regularizer, **kwargs)\n",
            "/usr/local/lib/python3.10/dist-packages/scikeras/wrappers.py:925: UserWarning: ``build_fn`` will be renamed to ``model`` in a future release, at which point use of ``build_fn`` will raise an Error instead.\n",
            "  X, y = self._initialize(X, y)\n",
            "/usr/local/lib/python3.10/dist-packages/keras/src/layers/core/dense.py:87: UserWarning: Do not pass an `input_shape`/`input_dim` argument to a layer. When using Sequential models, prefer using an `Input(shape)` object as the first layer in the model instead.\n",
            "  super().__init__(activity_regularizer=activity_regularizer, **kwargs)\n",
            "/usr/local/lib/python3.10/dist-packages/scikeras/wrappers.py:925: UserWarning: ``build_fn`` will be renamed to ``model`` in a future release, at which point use of ``build_fn`` will raise an Error instead.\n",
            "  X, y = self._initialize(X, y)\n",
            "/usr/local/lib/python3.10/dist-packages/keras/src/layers/core/dense.py:87: UserWarning: Do not pass an `input_shape`/`input_dim` argument to a layer. When using Sequential models, prefer using an `Input(shape)` object as the first layer in the model instead.\n",
            "  super().__init__(activity_regularizer=activity_regularizer, **kwargs)\n"
          ]
        },
        {
          "output_type": "stream",
          "name": "stdout",
          "text": [
            "Classification Report for ANN:\n",
            "              precision    recall  f1-score   support\n",
            "\n",
            "         0.0       0.63      0.89      0.74        19\n",
            "         1.0       0.71      0.33      0.45        15\n",
            "\n",
            "    accuracy                           0.65        34\n",
            "   macro avg       0.67      0.61      0.60        34\n",
            "weighted avg       0.67      0.65      0.61        34\n",
            "\n",
            "Average Training Accuracy for ANN: 0.6194\n",
            "Testing Accuracy for ANN: 0.5977\n",
            "------------------------------------------------\n",
            "\n"
          ]
        }
      ],
      "source": [
        "selected_features = ['Disease_lymphoma', 'Txpostrelapse', 'Riskgroup']\n",
        "\n",
        "# Prepare the data\n",
        "X = df[selected_features]\n",
        "y = df['survival_status']\n",
        "\n",
        "# Split the data into training and testing sets\n",
        "X_train, X_test, y_train, y_test = train_test_split(X, y, test_size=0.2, random_state=42)\n",
        "\n",
        "# Scale the features\n",
        "scaler = StandardScaler()\n",
        "X_train_scaled = scaler.fit_transform(X_train)\n",
        "X_test_scaled = scaler.transform(X_test)\n",
        "\n",
        "# Define the models\n",
        "def create_model():\n",
        "    model = Sequential([\n",
        "        Dense(12, activation='relu', input_shape=(X_train_scaled.shape[1],)),\n",
        "        Dense(8, activation='relu'),\n",
        "        Dense(1, activation='sigmoid')\n",
        "    ])\n",
        "    model.compile(optimizer='adam', loss='binary_crossentropy', metrics=['accuracy'])\n",
        "    return model\n",
        "\n",
        "models = {\n",
        "    \"DT\": DecisionTreeClassifier(),\n",
        "    \"RF\": RandomForestClassifier(),\n",
        "    \"KNN\": KNeighborsClassifier(),\n",
        "    \"NB\": GaussianNB(),\n",
        "    \"SVM\": SVC(probability=True),\n",
        "    \"ANN\": KerasClassifier(build_fn=create_model, epochs=100, batch_size=10, verbose=0)\n",
        "}\n",
        "\n",
        "# Perform cross-validation on the training set\n",
        "skf = StratifiedKFold(n_splits=5, shuffle=True, random_state=42)\n",
        "\n",
        "for name, model in models.items():\n",
        "    if name == \"ANN\":\n",
        "        # Keras models do not directly support cross_val_score\n",
        "        train_accuracies = []\n",
        "        test_accuracies = []\n",
        "        for train_index, val_index in skf.split(X_train_scaled, y_train):\n",
        "            X_train_fold, X_val_fold = X_train_scaled[train_index], X_train_scaled[val_index]\n",
        "            y_train_fold, y_val_fold = y_train.iloc[train_index], y_train.iloc[val_index]\n",
        "\n",
        "            model.fit(X_train_fold, y_train_fold)\n",
        "            train_accuracy = model.score(X_train_fold, y_train_fold)\n",
        "            y_val_pred = model.predict(X_val_fold)\n",
        "            test_accuracy = accuracy_score(y_val_fold, (y_val_pred > 0.5).astype(int))\n",
        "\n",
        "            train_accuracies.append(train_accuracy)\n",
        "            test_accuracies.append(test_accuracy)\n",
        "\n",
        "        avg_train_accuracy = sum(train_accuracies) / len(train_accuracies)\n",
        "        avg_test_accuracy = sum(test_accuracies) / len(test_accuracies)\n",
        "\n",
        "    else:\n",
        "        train_accuracies = cross_val_score(model, X_train_scaled, y_train, cv=skf, scoring='accuracy')\n",
        "        avg_train_accuracy = train_accuracies.mean()\n",
        "        model.fit(X_train_scaled, y_train)\n",
        "        y_pred = model.predict(X_test_scaled)\n",
        "        avg_test_accuracy = accuracy_score(y_test, y_pred)\n",
        "\n",
        "    # Generate classification report\n",
        "    report = classification_report(y_test, y_pred)\n",
        "    print(f\"Classification Report for {name}:\")\n",
        "    print(report)\n",
        "\n",
        "    # Print accuracies\n",
        "    print(f\"Average Training Accuracy for {name}: {avg_train_accuracy:.4f}\")\n",
        "    print(f\"Testing Accuracy for {name}: {avg_test_accuracy:.4f}\")\n",
        "    print(\"------------------------------------------------\\n\")\n"
      ]
    },
    {
      "cell_type": "code",
      "execution_count": null,
      "id": "4dc5c6fe-24b0-4bc0-9855-6fdd7355a098",
      "metadata": {
        "colab": {
          "base_uri": "https://localhost:8080/"
        },
        "id": "4dc5c6fe-24b0-4bc0-9855-6fdd7355a098",
        "outputId": "d684fe06-f990-4c8b-bef5-ee063aa7d802"
      },
      "outputs": [
        {
          "output_type": "stream",
          "name": "stdout",
          "text": [
            "Fitting 3 folds for each of 100 candidates, totalling 300 fits\n"
          ]
        },
        {
          "output_type": "stream",
          "name": "stderr",
          "text": [
            "/usr/local/lib/python3.10/dist-packages/joblib/externals/loky/backend/fork_exec.py:38: RuntimeWarning: os.fork() was called. os.fork() is incompatible with multithreaded code, and JAX is multithreaded, so this will likely lead to a deadlock.\n",
            "  pid = os.fork()\n"
          ]
        }
      ],
      "source": [
        "from sklearn.ensemble import RandomForestClassifier\n",
        "from sklearn.model_selection import RandomizedSearchCV\n",
        "from sklearn.metrics import classification_report, accuracy_score\n",
        "\n",
        "# Define the parameter grid with valid options\n",
        "param_grid = {\n",
        "    'n_estimators': [100, 200, 300, 400, 500],\n",
        "    'max_features': ['sqrt', 'log2', None],\n",
        "    'max_depth': [None, 10, 20, 30, 40, 50],\n",
        "    'min_samples_split': [2, 5, 10,20,30],\n",
        "    'min_samples_leaf': [1, 2, 4,5,6]\n",
        "}\n",
        "\n",
        "# Initialize the Random Forest model\n",
        "rf = RandomForestClassifier()\n",
        "\n",
        "# Perform Randomized Search\n",
        "random_search = RandomizedSearchCV(estimator=rf, param_distributions=param_grid, n_iter=100, cv=3, verbose=2, random_state=42, n_jobs=-1)\n",
        "random_search.fit(X_train_scaled, y_train)\n",
        "\n",
        "print(\"Best parameters found: \", random_search.best_params_)\n",
        "print(\"Best cross-validation score: \", random_search.best_score_)\n",
        "\n",
        "# Evaluate the best model on the train and test sets\n",
        "best_rf = random_search.best_estimator_\n",
        "y_train_pred = best_rf.predict(X_train_scaled)\n",
        "y_test_pred = best_rf.predict(X_test_scaled)\n",
        "\n",
        "print(\"Classification Report for Random Forest (Train):\")\n",
        "print(classification_report(y_train, y_train_pred))\n",
        "print(f\"Train Accuracy for Random Forest: {accuracy_score(y_train, y_train_pred):.4f}\")\n",
        "print(\"------------------------------------------------\\n\")\n",
        "\n",
        "print(\"Classification Report for Random Forest (Test):\")\n",
        "print(classification_report(y_test, y_test_pred))\n",
        "print(f\"Test Accuracy for Random Forest: {accuracy_score(y_test, y_test_pred):.4f}\")\n",
        "print(\"------------------------------------------------\\n\")\n"
      ]
    },
    {
      "cell_type": "code",
      "source": [
        "\n",
        "\n",
        "# Split the data into training and testing sets\n",
        "X_train, X_test, y_train, y_test = train_test_split(X, y, test_size=0.2, random_state=42)\n",
        "\n",
        "# Scale the features\n",
        "scaler = StandardScaler()\n",
        "X_train_scaled = scaler.fit_transform(X_train)\n",
        "X_test_scaled = scaler.transform(X_test)\n",
        "\n",
        "# Define StratifiedKFold\n",
        "skf = StratifiedKFold(n_splits=5, shuffle=True, random_state=42)\n",
        "\n",
        "\n",
        "# Create the pipeline for SVM\n",
        "svm_pipeline = Pipeline([\n",
        "    ('smote', smote),\n",
        "    ('scaler', StandardScaler()),  # Add scaler to pipeline\n",
        "    ('classifier', SVC(probability=True))\n",
        "])\n",
        "\n",
        "# Define the parameter grid for SVM\n",
        "svm_param_grid = {\n",
        "    'classifier__C': [0.1, 1, 10, 100],\n",
        "    'classifier__gamma': [1, 0.1, 0.01, 0.001],\n",
        "    'classifier__kernel': ['linear', 'rbf']\n",
        "}\n",
        "\n",
        "# Perform Randomized Search with the SVM pipeline\n",
        "svm_random_search = RandomizedSearchCV(estimator=svm_pipeline, param_distributions=svm_param_grid, n_iter=20, cv=3, verbose=2, random_state=42, n_jobs=-1)\n",
        "svm_random_search.fit(X_train, y_train)  # Use original X_train\n",
        "\n",
        "print(\"Best parameters found for SVM: \", svm_random_search.best_params_)\n",
        "print(\"Best cross-validation score for SVM: \", svm_random_search.best_score_)\n",
        "\n",
        "# Evaluate the best SVM model on the train and test set\n",
        "best_svm_pipeline = svm_random_search.best_estimator_\n",
        "y_svm_train_pred = best_svm_pipeline.predict(X_train)\n",
        "y_svm_test_pred = best_svm_pipeline.predict(X_test)\n",
        "\n",
        "print(\"Classification Report for SVM (Train):\")\n",
        "print(classification_report(y_train, y_svm_train_pred))\n",
        "print(f\"Train Accuracy for SVM: {accuracy_score(y_train, y_svm_train_pred):.4f}\")\n",
        "print(\"------------------------------------------------\\n\")\n",
        "\n",
        "print(\"Classification Report for SVM (Test):\")\n",
        "print(classification_report(y_test, y_svm_test_pred))\n",
        "print(f\"Test Accuracy for SVM: {accuracy_score(y_test, y_svm_test_pred):.4f}\")\n",
        "print(\"------------------------------------------------\\n\")\n",
        "\n",
        "### KNN Model with SMOTE\n",
        "# Create the pipeline for KNN\n",
        "knn_pipeline = Pipeline([\n",
        "    ('smote', smote),\n",
        "    ('scaler', StandardScaler()),  # Add scaler to pipeline\n",
        "    ('classifier', KNeighborsClassifier())\n",
        "])\n",
        "\n",
        "# Define the parameter grid for KNN\n",
        "knn_param_grid = {\n",
        "    'classifier__n_neighbors': [3, 5, 7, 9],\n",
        "    'classifier__weights': ['uniform', 'distance'],\n",
        "    'classifier__metric': ['euclidean', 'manhattan']\n",
        "}\n",
        "\n",
        "# Perform Randomized Search with the KNN pipeline\n",
        "knn_random_search = RandomizedSearchCV(estimator=knn_pipeline, param_distributions=knn_param_grid, n_iter=20, cv=3, verbose=2, random_state=42, n_jobs=-1)\n",
        "knn_random_search.fit(X_train, y_train)  # Use original X_train\n",
        "\n",
        "print(\"Best parameters found for KNN: \", knn_random_search.best_params_)\n",
        "print(\"Best cross-validation score for KNN: \", knn_random_search.best_score_)\n",
        "\n",
        "# Evaluate the best KNN model on the train and test set\n",
        "best_knn_pipeline = knn_random_search.best_estimator_\n",
        "y_knn_train_pred = best_knn_pipeline.predict(X_train)\n",
        "y_knn_test_pred = best_knn_pipeline.predict(X_test)\n",
        "\n",
        "print(\"Classification Report for KNN (Train):\")\n",
        "print(classification_report(y_train, y_knn_train_pred))\n",
        "print(f\"Train Accuracy for KNN: {accuracy_score(y_train, y_knn_train_pred):.4f}\")\n",
        "print(\"------------------------------------------------\\n\")\n",
        "\n",
        "print(\"Classification Report for KNN (Test):\")\n",
        "print(classification_report(y_test, y_knn_test_pred))\n",
        "print(f\"Test Accuracy for KNN: {accuracy_score(y_test, y_knn_test_pred):.4f}\")\n",
        "print(\"------------------------------------------------\\n\")\n",
        "\n",
        "# Summary of results for all models\n",
        "models = {\n",
        "    \"SVM\": best_svm_pipeline,\n",
        "    \"KNN\": best_knn_pipeline\n",
        "}\n",
        "\n",
        "for name, model in models.items():\n",
        "    y_train_pred = model.predict(X_train)\n",
        "    y_test_pred = model.predict(X_test)\n",
        "    print(f\"Classification Report for {name} (Train):\")\n",
        "    print(classification_report(y_train, y_train_pred))\n",
        "    print(f\"Train Accuracy for {name}: {accuracy_score(y_train, y_train_pred):.4f}\")\n",
        "    print(\"------------------------------------------------\\n\")\n",
        "    print(f\"Classification Report for {name} (Test):\")\n",
        "    print(classification_report(y_test, y_test_pred))\n",
        "    print(f\"Test Accuracy for {name}: {accuracy_score(y_test, y_test_pred):.4f}\")\n",
        "    print(\"------------------------------------------------\\n\")\n"
      ],
      "metadata": {
        "id": "zP12GD29E2AO"
      },
      "id": "zP12GD29E2AO",
      "execution_count": null,
      "outputs": []
    },
    {
      "cell_type": "code",
      "source": [],
      "metadata": {
        "id": "OXactj9IIVdI"
      },
      "id": "OXactj9IIVdI",
      "execution_count": null,
      "outputs": []
    }
  ],
  "metadata": {
    "kernelspec": {
      "display_name": "Python 3 (ipykernel)",
      "language": "python",
      "name": "python3"
    },
    "language_info": {
      "codemirror_mode": {
        "name": "ipython",
        "version": 3
      },
      "file_extension": ".py",
      "mimetype": "text/x-python",
      "name": "python",
      "nbconvert_exporter": "python",
      "pygments_lexer": "ipython3",
      "version": "3.11.8"
    },
    "colab": {
      "provenance": []
    }
  },
  "nbformat": 4,
  "nbformat_minor": 5
}